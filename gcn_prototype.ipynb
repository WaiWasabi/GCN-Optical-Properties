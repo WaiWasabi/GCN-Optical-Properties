{
 "cells": [
  {
   "cell_type": "markdown",
   "id": "dfcbd9a8",
   "metadata": {},
   "source": [
    "# Import Dependencies, Data"
   ]
  },
  {
   "cell_type": "code",
   "execution_count": 1,
   "id": "2b747347",
   "metadata": {},
   "outputs": [],
   "source": [
    "import numpy as np\n",
    "import matplotlib.pyplot as plt\n",
    "import pandas as pd\n",
    "from pysmiles import read_smiles\n",
    "import networkx as nx\n",
    "from rdkit.Chem import AllChem\n",
    "import torch\n",
    "import scipy\n",
    "import rdkit\n",
    "import os\n",
    "import pickle"
   ]
  },
  {
   "cell_type": "code",
   "execution_count": 2,
   "id": "4674842a",
   "metadata": {},
   "outputs": [],
   "source": [
    "dataframe = pd.read_csv('rev02.csv', delimiter=',')[['Chromophore', 'Emission max (nm)']].dropna()"
   ]
  },
  {
   "cell_type": "markdown",
   "id": "514e41a3",
   "metadata": {},
   "source": [
    "# Data Exploration"
   ]
  },
  {
   "cell_type": "code",
   "execution_count": 3,
   "id": "d3f0f7f1",
   "metadata": {},
   "outputs": [
    {
     "data": {
      "image/png": "[encoded data removed]",
      "text/plain": [
       "<PIL.PngImagePlugin.PngImageFile image mode=RGB size=300x300 at 0x17C9637B670>"
      ]
     },
     "execution_count": 3,
     "metadata": {},
     "output_type": "execute_result"
    }
   ],
   "source": [
    "smiles_0 = dataframe['Chromophore'][0]\n",
    "mol_0 = rdkit.Chem.MolFromSmiles(smiles_0)\n",
    "rdkit.IPythonConsole.Draw.MolToImage(mol_0)"
   ]
  },
  {
   "cell_type": "code",
   "execution_count": 4,
   "id": "43dfe2f4",
   "metadata": {},
   "outputs": [
    {
     "data": {
      "image/png": "[encoded data removed]",
      "text/plain": [
       "<Figure size 432x288 with 1 Axes>"
      ]
     },
     "metadata": {
      "needs_background": "light"
     },
     "output_type": "display_data"
    }
   ],
   "source": [
    "plt.xticks([])\n",
    "plt.plot(dataframe['Emission max (nm)'])\n",
    "plt.show()"
   ]
  },
  {
   "cell_type": "markdown",
   "id": "128f1a7e",
   "metadata": {},
   "source": [
    "# Preprocess Data"
   ]
  },
  {
   "cell_type": "markdown",
   "id": "938e7ac6",
   "metadata": {},
   "source": [
    "## Define Constants"
   ]
  },
  {
   "cell_type": "code",
   "execution_count": 5,
   "id": "b7c3c362",
   "metadata": {},
   "outputs": [],
   "source": [
    "MAX_SIZE = 150\n",
    "atoms = ['C', 'N', 'O', 'F', 'S', 'B', 'Cl', 'Si', 'Br', 'P', 'I', 'Se', '[OOV]']"
   ]
  },
  {
   "cell_type": "markdown",
   "id": "9d5c8c6a",
   "metadata": {},
   "source": [
    "## TODO: \n",
    "\n",
    "* Process Data into proper format: \n",
    "\n",
    "### No Need to Re-Run When Finalized!"
   ]
  },
  {
   "cell_type": "code",
   "execution_count": null,
   "id": "d5b29f83",
   "metadata": {},
   "outputs": [],
   "source": [
    "def to_one_hot(atom): # generate one-hot encodings for an individual atom\n",
    "  if atom in atoms:\n",
    "    return [int(atom==valid) for valid in atoms]\n",
    "  else:\n",
    "    return [int('[OOV]'==valid) for valid in atoms]\n",
    "\n",
    "def sparsify(adj_matrix):\n",
    "  output = [[], []]\n",
    "  for row in range(adj_matrix.shape[0]):\n",
    "    for col in range(adj_matrix.shape[1]):\n",
    "      if adj_matrix[row, col] != 0:\n",
    "        output[0].append(row); output[1].append(col)\n",
    "  return torch.LongTensor(output)\n",
    "\n",
    "def pad_vec(vec_list, target):\n",
    "  np_arr = np.array(vec_list)\n",
    "  return np.append(np_arr, np.zeros([target-np_arr.shape[0], np_arr.shape[1]]), axis=0)\n",
    "\n",
    "def pad_adj(np_adj, target): # also converts to a sparse tensor\n",
    "  output = np.zeros([target, target])\n",
    "  output[:np_adj.shape[0], :np_adj.shape[1]] = np_adj\n",
    "  return sparsify(output)\n",
    "  \n",
    "\n",
    "import logging\n",
    "logging.getLogger('pysmiles').setLevel(logging.CRITICAL) # turns off warning spam for ignored stereochemistry in smiles string.\n",
    "\n",
    "mols = [] # list of objects\n",
    "\n",
    "for smiles in dataframe['Chromophore']:\n",
    "  try:\n",
    "    mols.append(read_smiles(smiles))\n",
    "  except:\n",
    "    mols.append(read_smiles(smiles.replace('se', 'Se')))\n",
    "\n",
    "adjs = [nx.adjacency_matrix(mol, weight='order').todense() for mol in mols]\n",
    "\n",
    "vecs = []\n",
    "for item in mols:\n",
    "    tmp = []\n",
    "    node_map = item.nodes(data='element')\n",
    "    for j in range(len(node_map)):\n",
    "        tmp.append(to_one_hot(node_map[j]))\n",
    "    vecs.append(tmp)\n",
    "\n",
    "# vecs = map(lambda x: [to_one_hot(enum[1]) for enum in x.nodes(data='element')], mols)\n",
    "data_dict = {'xs':[torch.tensor(pad_vec(vec, MAX_SIZE)) for vec in vecs],\n",
    "             'edge_indices':[pad_adj(adj, MAX_SIZE) for adj in adjs],\n",
    "             'edge_attribs': None,\n",
    "             'ys':[torch.tensor(y) for y in dataframe['Emission max (nm)']]}\n",
    "\n",
    "with open('data', 'wb') as file:\n",
    "  pickle.dump(data_dict, file, protocol=pickle.HIGHEST_PROTOCOL)"
   ]
  },
  {
   "cell_type": "code",
   "execution_count": 6,
   "id": "9fddde8f",
   "metadata": {},
   "outputs": [],
   "source": [
    "# i = 0\n",
    "# l = []\n",
    "# for item in mols:\n",
    "#     if i >= 5:\n",
    "#         break\n",
    "#     i += 1\n",
    "#     tmp = []\n",
    "#     node_map = item.nodes(data='element')\n",
    "#     for j in range(len(node_map)):\n",
    "#         tmp.append(to_one_hot(node_map[j]))\n",
    "#     l.append(tmp)\n",
    "# pad_vec(l[0], 150)\n",
    "\n",
    "# with open('data', 'wb') as file:\n",
    "#   pickle.dump(data_dict, file, protocol=pickle.HIGHEST_PROTOCOL)"
   ]
  },
  {
   "cell_type": "raw",
   "id": "48b6ee6d",
   "metadata": {},
   "source": [
    "import logging\n",
    "logging.getLogger('pysmiles').setLevel(logging.CRITICAL) # turns off warning spam for ignored stereochemistry in smiles string.\n",
    "\n",
    "mols = [] # list of objects\n",
    "\n",
    "for smiles in dataframe['Chromophore']:\n",
    "  try:\n",
    "    mols.append(read_smiles(smiles))\n",
    "  except:\n",
    "    mols.append(read_smiles(smiles.replace('se', 'Se')))\n",
    "    \n",
    "#adjs = [nx.adjacency_matrix(mol, weight='order').todense() for mol in mols]\n",
    "adjs = map(lambda x: nx.adjacency_matrix(x).todense(), mols)\n",
    "vecs = map(lambda x: [to_one_hot(enum[1]) for enum in x.nodes(data='element')], mols)\n",
    "data_dict = {'xs':[torch.tensor(pad_vec(vec, MAX_SIZE)) for vec in vecs],\n",
    "             'edge_indices':[pad_adj(adj, MAX_SIZE) for adj in adjs],\n",
    "             'edge_attribs': None,\n",
    "             'ys':[torch.tensor(y) for y in dataframe['Emission max (nm)']]}\n",
    "\n",
    "with open('data', 'wb') as file:\n",
    "  pickle.dump(data_dict, file, protocol=pickle.HIGHEST_PROTOCOL)"
   ]
  },
  {
   "cell_type": "markdown",
   "id": "bcedbe9f",
   "metadata": {},
   "source": [
    "# GCN Implementation\n",
    "Concept From: [DeepFindr Article][0]\n",
    "\n",
    "Other Documentation:\n",
    "1. [PyTorch Geometric GCN][1]\n",
    "2. [Kipf and Welling][2]\n",
    "\n",
    "This network incorporates the torch_geometric implementation of the Graph Convolutional Network outlined by Kipf and Welling to predict emission wavelength based on the SMILES representation of a chromophore.\n",
    "\n",
    "[0]: https://deepfindr.com/understanding-graph-neural-networks-part-3-3/ \"Title\"\n",
    "[1]: https://pytorch-geometric.readthedocs.io/en/latest/notes/create_gnn.html#implementing-the-gcn-layer \"Title\"\n",
    "[2]: https://arxiv.org/abs/1609.02907 \"Title\""
   ]
  },
  {
   "cell_type": "markdown",
   "id": "0abf36d1",
   "metadata": {},
   "source": [
    "## TODO/FIXME\n",
    "\n",
    "\n",
    "* Need to incorporate solvent data into network input; currently only using chromophore. :weary:\n",
    "* Currently discarding stereochemistry details. TODO: implement isomer details in edge_attribute matrix?\n",
    "* Current graph features are only one-hot encodings of the atoms; may be suboptimal for molecular representation.\n",
    "* Other Optimizations:\n",
    "    - Dropouts\n",
    "    - Better pooling layers\n",
    "    - Batch norm\n",
    "    - Hyperparameter tuning"
   ]
  },
  {
   "cell_type": "code",
   "execution_count": 7,
   "id": "957ec233",
   "metadata": {},
   "outputs": [],
   "source": [
    "from torch.nn import Linear\n",
    "import torch.nn.functional as F\n",
    "from torch_geometric.nn import GCNConv, TopKPooling, global_mean_pool as gap, global_max_pool as gmp"
   ]
  },
  {
   "cell_type": "code",
   "execution_count": 8,
   "id": "f671dd8c",
   "metadata": {},
   "outputs": [],
   "source": [
    "# NOTE: data-dependent parameters\n",
    "output_dim = 1\n",
    "input_shape = len(atoms)\n",
    "# NOTE: hyperparameters\n",
    "embedding_size = 64\n",
    "\n",
    "from torch.nn import Embedding\n",
    "class GCN(torch.nn.Module):\n",
    "  def __init__(self):\n",
    "    super(GCN, self).__init__()\n",
    "    torch.manual_seed(42)\n",
    "    self.conv0 = GCNConv(input_shape, embedding_size) # embedding?\n",
    "    self.conv1 = GCNConv(embedding_size, embedding_size)\n",
    "    self.out = Linear(embedding_size*2, output_dim)\n",
    "  \n",
    "  def forward(self, x, edge_index, batch_index):\n",
    "    hidden = F.tanh(self.conv0(x, edge_index))\n",
    "    hidden = F.tanh(self.conv1(hidden, edge_index))\n",
    "    hidden = torch.cat([gmp(hidden, batch_index), gap(hidden, batch_index)], dim=1)\n",
    "    out = self.out(hidden)\n",
    "    return out, hidden"
   ]
  },
  {
   "cell_type": "code",
   "execution_count": 9,
   "id": "1a8ecb71",
   "metadata": {},
   "outputs": [
    {
     "name": "stdout",
     "output_type": "stream",
     "text": [
      "GCN(\n",
      "  (conv0): GCNConv(13, 64)\n",
      "  (conv1): GCNConv(64, 64)\n",
      "  (out): Linear(in_features=128, out_features=1, bias=True)\n",
      ")\n"
     ]
    }
   ],
   "source": [
    "model = GCN()\n",
    "print(model)"
   ]
  },
  {
   "cell_type": "markdown",
   "id": "769e7170",
   "metadata": {},
   "source": [
    "# Model Training"
   ]
  },
  {
   "cell_type": "code",
   "execution_count": 10,
   "id": "c685c77c",
   "metadata": {},
   "outputs": [],
   "source": [
    "from torch_geometric.data import DataLoader, Data\n",
    "import warnings\n",
    "warnings.filterwarnings('ignore')\n",
    "\n",
    "with open('data', 'rb') as file:\n",
    "  data_dict = pickle.load(file)\n",
    "  \n",
    "data = [Data(x=vec, edge_index=adj, y=y) for vec, adj, y in zip(data_dict['xs'], data_dict['edge_indices'], data_dict['ys'])]\n",
    "  \n",
    "loss_fn = torch.nn.MSELoss()\n",
    "optimizer = torch.optim.Adam(model.parameters(), lr=0.05)\n",
    "\n",
    "device = torch.device('cuda:0' if torch.cuda.is_available() else 'cpu')\n",
    "model = model.to(device)\n",
    "\n",
    "data_size = len(data)\n",
    "BATCH_SIZE = 64\n",
    "loader = DataLoader(data[:int(data_size * 0.8)], batch_size=BATCH_SIZE, shuffle=True)\n",
    "test_loader = DataLoader(data[int(data_size * 0.8):], batch_size=BATCH_SIZE, shuffle=True)"
   ]
  },
  {
   "cell_type": "code",
   "execution_count": 11,
   "id": "2a89be3b",
   "metadata": {},
   "outputs": [
    {
     "data": {
      "text/plain": [
       "Chromophore          N#Cc1cc2ccc(O)cc2oc1=O\n",
       "Emission max (nm)                     410.0\n",
       "Name: 0, dtype: object"
      ]
     },
     "execution_count": 11,
     "metadata": {},
     "output_type": "execute_result"
    }
   ],
   "source": [
    "dataframe.iloc[0]"
   ]
  },
  {
   "cell_type": "code",
   "execution_count": 12,
   "id": "e41b864d",
   "metadata": {},
   "outputs": [],
   "source": [
    "def train_step(loader, history = True):\n",
    "  log = []\n",
    "  \n",
    "  for batch in loader:\n",
    "    batch.to(device)\n",
    "    optimizer.zero_grad()\n",
    "    pred, embedding = model(batch.x.float(), batch.edge_index, batch.batch)\n",
    "    loss = torch.sqrt(loss_fn(pred, batch.y))\n",
    "    loss.backward()\n",
    "    optimizer.step()\n",
    "    if history:\n",
    "      log.append([pred, batch.y])\n",
    "\n",
    "  return loss, embedding, log"
   ]
  },
  {
   "cell_type": "code",
   "execution_count": 13,
   "id": "98883b46",
   "metadata": {},
   "outputs": [
    {
     "name": "stdout",
     "output_type": "stream",
     "text": [
      "Starting training...\n",
      "Epoch 0 | Train Loss 91.12948608398438\n",
      "Epoch 1 | Train Loss 94.41605377197266\n",
      "Epoch 2 | Train Loss 95.15576171875\n",
      "Epoch 3 | Train Loss 77.79431915283203\n",
      "Epoch 4 | Train Loss 88.57748413085938\n",
      "Epoch 5 | Train Loss 85.52686309814453\n",
      "Epoch 6 | Train Loss 77.61872100830078\n",
      "Epoch 7 | Train Loss 95.3620376586914\n",
      "Epoch 8 | Train Loss 93.95406341552734\n",
      "Epoch 9 | Train Loss 101.49910736083984\n",
      "Epoch 10 | Train Loss 88.8037338256836\n",
      "Epoch 11 | Train Loss 86.33364868164062\n",
      "Epoch 12 | Train Loss 102.58882141113281\n",
      "Epoch 13 | Train Loss 80.29781341552734\n",
      "Epoch 14 | Train Loss 90.12064361572266\n",
      "Epoch 15 | Train Loss 92.35540008544922\n",
      "Epoch 16 | Train Loss 90.51537322998047\n",
      "Epoch 17 | Train Loss 93.0309066772461\n",
      "Epoch 18 | Train Loss 102.05249786376953\n",
      "Epoch 19 | Train Loss 82.87845611572266\n",
      "Epoch 20 | Train Loss 87.27914428710938\n",
      "Epoch 21 | Train Loss 80.07984161376953\n",
      "Epoch 22 | Train Loss 89.88462829589844\n",
      "Epoch 23 | Train Loss 90.40861511230469\n",
      "Epoch 24 | Train Loss 85.31597137451172\n",
      "Epoch 25 | Train Loss 84.13114166259766\n",
      "Epoch 26 | Train Loss 100.38636016845703\n",
      "Epoch 27 | Train Loss 102.09741973876953\n",
      "Epoch 28 | Train Loss 85.91084289550781\n",
      "Epoch 29 | Train Loss 116.52543640136719\n",
      "Epoch 30 | Train Loss 107.77403259277344\n",
      "Epoch 31 | Train Loss 101.4881591796875\n",
      "Epoch 32 | Train Loss 87.82506561279297\n",
      "Epoch 33 | Train Loss 89.77984619140625\n",
      "Epoch 34 | Train Loss 81.74465942382812\n",
      "Epoch 35 | Train Loss 87.39157104492188\n",
      "Epoch 36 | Train Loss 81.9952392578125\n",
      "Epoch 37 | Train Loss 78.10408020019531\n",
      "Epoch 38 | Train Loss 105.30606079101562\n",
      "Epoch 39 | Train Loss 84.4171371459961\n",
      "Epoch 40 | Train Loss 87.31658172607422\n",
      "Epoch 41 | Train Loss 65.18965148925781\n",
      "Epoch 42 | Train Loss 95.30303955078125\n",
      "Epoch 43 | Train Loss 91.17152404785156\n",
      "Epoch 44 | Train Loss 86.2301025390625\n",
      "Epoch 45 | Train Loss 92.64846801757812\n",
      "Epoch 46 | Train Loss 75.94305419921875\n",
      "Epoch 47 | Train Loss 94.0484619140625\n",
      "Epoch 48 | Train Loss 99.00606536865234\n",
      "Epoch 49 | Train Loss 87.39371490478516\n",
      "Epoch 50 | Train Loss 110.84078216552734\n",
      "Epoch 51 | Train Loss 88.47258758544922\n",
      "Epoch 52 | Train Loss 99.44243621826172\n",
      "Epoch 53 | Train Loss 98.0752944946289\n",
      "Epoch 54 | Train Loss 86.99281311035156\n",
      "Epoch 55 | Train Loss 81.98273468017578\n",
      "Epoch 56 | Train Loss 101.45542907714844\n",
      "Epoch 57 | Train Loss 95.10098266601562\n",
      "Epoch 58 | Train Loss 92.09797668457031\n",
      "Epoch 59 | Train Loss 89.91178894042969\n",
      "Epoch 60 | Train Loss 93.18607330322266\n",
      "Epoch 61 | Train Loss 93.64701080322266\n",
      "Epoch 62 | Train Loss 97.05131530761719\n",
      "Epoch 63 | Train Loss 99.51445770263672\n",
      "Epoch 64 | Train Loss 83.86466979980469\n",
      "Epoch 65 | Train Loss 99.36534118652344\n",
      "Epoch 66 | Train Loss 118.06649017333984\n",
      "Epoch 67 | Train Loss 97.33071899414062\n",
      "Epoch 68 | Train Loss 70.03125\n",
      "Epoch 69 | Train Loss 100.64964294433594\n",
      "Epoch 70 | Train Loss 90.70320892333984\n",
      "Epoch 71 | Train Loss 115.91233825683594\n",
      "Epoch 72 | Train Loss 95.23138427734375\n",
      "Epoch 73 | Train Loss 93.93037414550781\n",
      "Epoch 74 | Train Loss 96.40913391113281\n",
      "Epoch 75 | Train Loss 94.8570556640625\n",
      "Epoch 76 | Train Loss 86.49899291992188\n",
      "Epoch 77 | Train Loss 104.04915618896484\n",
      "Epoch 78 | Train Loss 107.67637634277344\n",
      "Epoch 79 | Train Loss 95.11620330810547\n",
      "Epoch 80 | Train Loss 79.86112213134766\n",
      "Epoch 81 | Train Loss 85.52008056640625\n",
      "Epoch 82 | Train Loss 87.6267318725586\n",
      "Epoch 83 | Train Loss 91.29991149902344\n",
      "Epoch 84 | Train Loss 91.0724868774414\n",
      "Epoch 85 | Train Loss 97.01465606689453\n",
      "Epoch 86 | Train Loss 95.95417022705078\n",
      "Epoch 87 | Train Loss 85.54734802246094\n",
      "Epoch 88 | Train Loss 101.0914535522461\n",
      "Epoch 89 | Train Loss 83.39592742919922\n",
      "Epoch 90 | Train Loss 98.38806915283203\n",
      "Epoch 91 | Train Loss 87.9358901977539\n",
      "Epoch 92 | Train Loss 85.60302734375\n",
      "Epoch 93 | Train Loss 92.62081146240234\n",
      "Epoch 94 | Train Loss 79.2371597290039\n",
      "Epoch 95 | Train Loss 111.87159729003906\n",
      "Epoch 96 | Train Loss 95.19278717041016\n",
      "Epoch 97 | Train Loss 100.29901123046875\n",
      "Epoch 98 | Train Loss 95.56066131591797\n",
      "Epoch 99 | Train Loss 101.57453155517578\n"
     ]
    }
   ],
   "source": [
    "print(\"Starting training...\")\n",
    "losses = []\n",
    "logs = []\n",
    "for epoch in range(100):\n",
    "    loss, h, log = train_step(loader)\n",
    "    losses.append(loss)\n",
    "    logs.extend(log)\n",
    "    if epoch % 1 == 0:\n",
    "      print(f\"Epoch {epoch} | Train Loss {loss}\")"
   ]
  },
  {
   "cell_type": "code",
   "execution_count": 14,
   "id": "d197fb95",
   "metadata": {},
   "outputs": [
    {
     "data": {
      "text/plain": [
       "[<matplotlib.lines.Line2D at 0x17cdca2fa30>]"
      ]
     },
     "execution_count": 14,
     "metadata": {},
     "output_type": "execute_result"
    },
    {
     "data": {
      "image/png": "[encoded data removed]",
      "text/plain": [
       "<Figure size 432x288 with 1 Axes>"
      ]
     },
     "metadata": {
      "needs_background": "light"
     },
     "output_type": "display_data"
    }
   ],
   "source": [
    "losses_float = [float(loss.cpu().detach().numpy()) for loss in losses] \n",
    "loss_indices = [i for i,l in enumerate(losses_float)] \n",
    "plt.plot(loss_indices, losses_float)"
   ]
  },
  {
   "cell_type": "code",
   "execution_count": 15,
   "id": "b8a962fb",
   "metadata": {},
   "outputs": [
    {
     "data": {
      "text/html": [
       "<div>\n",
       "<style scoped>\n",
       "    .dataframe tbody tr th:only-of-type {\n",
       "        vertical-align: middle;\n",
       "    }\n",
       "\n",
       "    .dataframe tbody tr th {\n",
       "        vertical-align: top;\n",
       "    }\n",
       "\n",
       "    .dataframe thead th {\n",
       "        text-align: right;\n",
       "    }\n",
       "</style>\n",
       "<table border=\"1\" class=\"dataframe\">\n",
       "  <thead>\n",
       "    <tr style=\"text-align: right;\">\n",
       "      <th></th>\n",
       "      <th>y_real</th>\n",
       "      <th>y_pred</th>\n",
       "    </tr>\n",
       "  </thead>\n",
       "  <tbody>\n",
       "    <tr>\n",
       "      <th>0</th>\n",
       "      <td>582.000000</td>\n",
       "      <td>[496.1108093261719]</td>\n",
       "    </tr>\n",
       "    <tr>\n",
       "      <th>1</th>\n",
       "      <td>546.938782</td>\n",
       "      <td>[496.1108093261719]</td>\n",
       "    </tr>\n",
       "    <tr>\n",
       "      <th>2</th>\n",
       "      <td>557.000000</td>\n",
       "      <td>[496.1108093261719]</td>\n",
       "    </tr>\n",
       "    <tr>\n",
       "      <th>3</th>\n",
       "      <td>606.000000</td>\n",
       "      <td>[496.1108093261719]</td>\n",
       "    </tr>\n",
       "    <tr>\n",
       "      <th>4</th>\n",
       "      <td>386.000000</td>\n",
       "      <td>[496.1108093261719]</td>\n",
       "    </tr>\n",
       "    <tr>\n",
       "      <th>...</th>\n",
       "      <td>...</td>\n",
       "      <td>...</td>\n",
       "    </tr>\n",
       "    <tr>\n",
       "      <th>59</th>\n",
       "      <td>606.000000</td>\n",
       "      <td>[496.1108093261719]</td>\n",
       "    </tr>\n",
       "    <tr>\n",
       "      <th>60</th>\n",
       "      <td>539.000000</td>\n",
       "      <td>[496.1108093261719]</td>\n",
       "    </tr>\n",
       "    <tr>\n",
       "      <th>61</th>\n",
       "      <td>698.000000</td>\n",
       "      <td>[496.1108093261719]</td>\n",
       "    </tr>\n",
       "    <tr>\n",
       "      <th>62</th>\n",
       "      <td>561.000000</td>\n",
       "      <td>[496.1108093261719]</td>\n",
       "    </tr>\n",
       "    <tr>\n",
       "      <th>63</th>\n",
       "      <td>384.000000</td>\n",
       "      <td>[496.1108093261719]</td>\n",
       "    </tr>\n",
       "  </tbody>\n",
       "</table>\n",
       "<p>64 rows × 2 columns</p>\n",
       "</div>"
      ],
      "text/plain": [
       "        y_real               y_pred\n",
       "0   582.000000  [496.1108093261719]\n",
       "1   546.938782  [496.1108093261719]\n",
       "2   557.000000  [496.1108093261719]\n",
       "3   606.000000  [496.1108093261719]\n",
       "4   386.000000  [496.1108093261719]\n",
       "..         ...                  ...\n",
       "59  606.000000  [496.1108093261719]\n",
       "60  539.000000  [496.1108093261719]\n",
       "61  698.000000  [496.1108093261719]\n",
       "62  561.000000  [496.1108093261719]\n",
       "63  384.000000  [496.1108093261719]\n",
       "\n",
       "[64 rows x 2 columns]"
      ]
     },
     "execution_count": 15,
     "metadata": {},
     "output_type": "execute_result"
    }
   ],
   "source": [
    "import pandas as pd \n",
    "\n",
    "# Analyze the results for one batch\n",
    "test_batch = next(iter(test_loader))\n",
    "with torch.no_grad():\n",
    "    test_batch.to(device)\n",
    "    pred, embed = model(test_batch.x.float(), test_batch.edge_index, test_batch.batch)\n",
    "    df = pd.DataFrame()\n",
    "    df[\"y_real\"] = test_batch.y.tolist()\n",
    "    df[\"y_pred\"] = pred.tolist()\n",
    "df[\"y_real\"] = df[\"y_real\"].apply(lambda row: row)\n",
    "df[\"y_pred\"] = df[\"y_pred\"].apply(lambda row: row)\n",
    "df"
   ]
  },
  {
   "cell_type": "code",
   "execution_count": null,
   "id": "b06c5271",
   "metadata": {
    "pycharm": {
     "is_executing": true
    }
   },
   "outputs": [],
   "source": []
  }
 ],
 "metadata": {
  "kernelspec": {
   "display_name": "Python 3",
   "language": "python",
   "name": "python3"
  },
  "language_info": {
   "codemirror_mode": {
    "name": "ipython",
    "version": 3
   },
   "file_extension": ".py",
   "mimetype": "text/x-python",
   "name": "python",
   "nbconvert_exporter": "python",
   "pygments_lexer": "ipython3",
   "version": "3.8.10"
  }
 },
 "nbformat": 4,
 "nbformat_minor": 5
}
